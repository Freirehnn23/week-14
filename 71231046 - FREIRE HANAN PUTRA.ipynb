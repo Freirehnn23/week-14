{
 "cells": [
  {
   "cell_type": "code",
   "execution_count": 1,
   "id": "818a6cf0",
   "metadata": {},
   "outputs": [
    {
     "name": "stdout",
     "output_type": "stream",
     "text": [
      "Masukkan bilangan yang Ingin di Check: 3\n",
      "3 merupakan bilangan prima.\n"
     ]
    }
   ],
   "source": [
    "def bilangan_prima(n, pembagi=2):\n",
    "    if n <= 1:\n",
    "        return False\n",
    "    if pembagi * pembagi > n:\n",
    "        return True\n",
    "    if n % pembagi == 0:\n",
    "        return False\n",
    "    return bilangan_prima(n, pembagi + 1)\n",
    "\n",
    "def main():\n",
    "    bilangan = int(input(\"Masukkan bilangan yang Ingin di Check: \"))\n",
    "    if bilangan_prima(bilangan):\n",
    "        print(f\"{bilangan} merupakan bilangan prima.\")\n",
    "    else:\n",
    "        print(f\"{bilangan} bukan bilangan prima.\")\n",
    "    \n",
    "if __name__ == \"__main__\":\n",
    "    main()\n"
   ]
  },
  {
   "cell_type": "code",
   "execution_count": 2,
   "id": "f75c2f2e",
   "metadata": {},
   "outputs": [
    {
     "name": "stdout",
     "output_type": "stream",
     "text": [
      "Masukkan kalimat: kasurrusak\n",
      "Masukkan batas rekursi: 10\n",
      "True\n"
     ]
    }
   ],
   "source": [
    "def palindromeAsik(s, b):\n",
    "    s = s.lower().replace(\" \", \"\")\n",
    "    if len(s) < 2:\n",
    "        return True\n",
    "    if s[0] == s[-1]:\n",
    "        return palindromeAsik(s[1:-1], b)\n",
    "    else:\n",
    "        return False\n",
    "\n",
    "input_string = input(\"Masukkan kalimat: \")\n",
    "batas_rekursi = int(input(\"Masukkan batas rekursi: \"))\n",
    "print(palindromeAsik(input_string, batas_rekursi))"
   ]
  },
  {
   "cell_type": "code",
   "execution_count": 4,
   "id": "95eef4c3",
   "metadata": {},
   "outputs": [
    {
     "name": "stdout",
     "output_type": "stream",
     "text": [
      "Masukkan nilai n: 7\n",
      "Jumlah deret adalah 16\n"
     ]
    }
   ],
   "source": [
    "def jumlah_deret_ganjil(n):\n",
    "    if n <= 1:\n",
    "        return 1\n",
    "    else:\n",
    "        return n + jumlah_deret_ganjil(n - 2)\n",
    "\n",
    "try:\n",
    "    n = int(input(\"Masukkan nilai n: \"))\n",
    "    if n < 1:\n",
    "        print(\"Nilai n harus lebih besar dari 0.\")\n",
    "    else:\n",
    "        hasil = jumlah_deret_ganjil(n)\n",
    "        print(f\"Jumlah deret adalah {hasil}\")\n",
    "except ValueError:\n",
    "    print(\"Masukkan angka bulat positif!\")\n"
   ]
  },
  {
   "cell_type": "code",
   "execution_count": 5,
   "id": "5225594f",
   "metadata": {},
   "outputs": [
    {
     "name": "stdout",
     "output_type": "stream",
     "text": [
      "Masukkan bilangan: 234\n",
      "Jumlah digitnya adalah 9\n"
     ]
    }
   ],
   "source": [
    "def jumlah_digit_rekursif(n):\n",
    "    if n < 10:\n",
    "        return n\n",
    "    else:\n",
    "        return n % 10 + jumlah_digit_rekursif(n // 10)\n",
    "\n",
    "try:\n",
    "    angka = int(input(\"Masukkan bilangan: \"))\n",
    "    hasil = jumlah_digit_rekursif(angka)\n",
    "    print(f\"Jumlah digitnya adalah {hasil}\")\n",
    "except ValueError:\n",
    "    print(\"Masukkan bilangan bulat yang valid.\")\n"
   ]
  },
  {
   "cell_type": "code",
   "execution_count": 6,
   "id": "331b0200",
   "metadata": {},
   "outputs": [
    {
     "name": "stdout",
     "output_type": "stream",
     "text": [
      "Masukkan nilai n: 10\n",
      "Masukkan nilai k: 4\n",
      "Hasilnya Kombinasinya adalah 210\n"
     ]
    }
   ],
   "source": [
    "def kombinasi(n, k):\n",
    "    if k == 0 or k == n:\n",
    "        return 1\n",
    "    else:\n",
    "        return kombinasi(n - 1, k - 1) + kombinasi(n - 1, k)\n",
    "\n",
    "def main():\n",
    "    n = int(input(\"Masukkan nilai n: \"))\n",
    "    k = int(input(\"Masukkan nilai k: \"))\n",
    "    hasil = kombinasi(n, k)\n",
    "    print(f\"Hasilnya Kombinasinya adalah {hasil}\")\n",
    "\n",
    "if __name__ == \"__main__\":\n",
    "    main()\n"
   ]
  },
  {
   "cell_type": "code",
   "execution_count": null,
   "id": "62534665",
   "metadata": {},
   "outputs": [],
   "source": []
  }
 ],
 "metadata": {
  "kernelspec": {
   "display_name": "Python 3 (ipykernel)",
   "language": "python",
   "name": "python3"
  },
  "language_info": {
   "codemirror_mode": {
    "name": "ipython",
    "version": 3
   },
   "file_extension": ".py",
   "mimetype": "text/x-python",
   "name": "python",
   "nbconvert_exporter": "python",
   "pygments_lexer": "ipython3",
   "version": "3.11.5"
  }
 },
 "nbformat": 4,
 "nbformat_minor": 5
}
